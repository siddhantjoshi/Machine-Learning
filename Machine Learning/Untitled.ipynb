{
 "cells": [
  {
   "cell_type": "code",
   "execution_count": null,
   "metadata": {},
   "outputs": [],
   "source": [
    "import csv\n",
    "import numpy as np\n",
    "from sklearn.svm import SVR\n",
    "import matplotlib.pyplot as plt\n",
    "\n",
    "dates = []\n",
    "prices = []\n",
    "\n",
    "def get_data(filename):\n",
    "    print('dd1')\n",
    "    with open(filename, 'r') as csvfile:\n",
    "        csvFileReader = csv.reader(csvfile)\n",
    "        next(csvFileReader)\n",
    "        print('dd2')\n",
    "        for row in csvFileReader:\n",
    "            dates.append(int(row[0].split('-')[0]))\n",
    "            prices.append(float(row[1]))\n",
    "            print('dd3')\n",
    "    print('dd4')\n",
    "    return\n",
    "\n",
    "def predict_prices(dates, prices, x):\n",
    "    print('dd5')\n",
    "    dates = np.reshape(dates, (len(dates), 1))\n",
    "    \n",
    "    svr_lin = SVR(kernel= 'linear', C= 1e3)\n",
    "    svr_poly = SVR(kernel= 'poly', C = 1e3, degree = 2 )\n",
    "    svr_rbf = SVR(kernel='rbf', C=1e3, auto = 0.1)\n",
    "    \n",
    "    svr_lin.fit(dates, prices)\n",
    "    svr_poly.fit(dates,prices)\n",
    "    svr_rbf.fit(dates,prices)\n",
    "    \n",
    "    plt.scatter(dates, prices, color = 'black', label='Data')\n",
    "    plt.plot(dates, svr_rbf.predict(dates), color = 'red', label='RBF Model')\n",
    "    plt.plot(dates, svr_lin.predict(dates), color = 'green', label='Linear Model')\n",
    "    plt.plot(dates, svr_poly.predict(dates), color = 'blue', label='Polynomial Model')\n",
    "    \n",
    "    plt.xlabel('Date')\n",
    "    plt.ylabel('Price')\n",
    "    plt.title('Support Vector Regression ')\n",
    "    plt.legend()\n",
    "    plt.show()\n",
    "    \n",
    "    print('dd6')\n",
    "    return svr_rbf.predict(x)[0], svr_lin.predict(x)[0], svr_poly.predict(x)[0]\n",
    "\n",
    "get_data('AAPL.csv')\n",
    "\n",
    "predicted_price = predict_prices(dates, prices, 29)\n",
    "\n",
    "print('predicted_price')"
   ]
  },
  {
   "cell_type": "code",
   "execution_count": null,
   "metadata": {},
   "outputs": [],
   "source": []
  }
 ],
 "metadata": {
  "celltoolbar": "Attachments",
  "kernelspec": {
   "display_name": "Python 3",
   "language": "python",
   "name": "python3"
  },
  "language_info": {
   "codemirror_mode": {
    "name": "ipython",
    "version": 3
   },
   "file_extension": ".py",
   "mimetype": "text/x-python",
   "name": "python",
   "nbconvert_exporter": "python",
   "pygments_lexer": "ipython3",
   "version": "3.7.3"
  }
 },
 "nbformat": 4,
 "nbformat_minor": 2
}
